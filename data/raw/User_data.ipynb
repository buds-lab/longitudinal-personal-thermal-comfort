{
 "cells": [
  {
   "cell_type": "code",
   "execution_count": 1,
   "metadata": {},
   "outputs": [],
   "source": [
    "import os\n",
    "import Data_processing as proc\n",
    "import pandas as pd\n",
    "import numpy as np\n",
    "import formatting as fm"
   ]
  },
  {
   "cell_type": "markdown",
   "metadata": {},
   "source": [
    "# stage 0: merging the cozie, ibutton, fitbit and yak data for the user"
   ]
  },
  {
   "cell_type": "code",
   "execution_count": 2,
   "metadata": {},
   "outputs": [
    {
     "data": {
      "text/plain": [
       "['enth01_merged_z.csv',\n",
       " 'enth02_merged_z.csv',\n",
       " 'enth02_valid.csv',\n",
       " 'enth03_merged_z.csv',\n",
       " 'enth04_merged_z.csv',\n",
       " 'enth05_merged_z.csv',\n",
       " 'enth07_merged_z.csv',\n",
       " 'enth09_merged_z.csv',\n",
       " 'enth10_merged_z.csv',\n",
       " 'enth11_merged_z.csv',\n",
       " 'enth13_merged_z.csv',\n",
       " 'enth15_merged_z.csv',\n",
       " 'enth16_merged_z.csv',\n",
       " 'enth17_merged_z.csv',\n",
       " 'enth20_merged_z.csv',\n",
       " 'enth22_merged_z.csv',\n",
       " 'enth25_merged_z.csv',\n",
       " 'enth28_merged_z.csv',\n",
       " 'enth_all_users_merged_z.csv',\n",
       " 'enth_new_cols_z.csv']"
      ]
     },
     "execution_count": 2,
     "metadata": {},
     "output_type": "execute_result"
    }
   ],
   "source": [
    "all_files = list(filter(lambda x: \"csv\" in x and \"enth\" in x, os.listdir()))\n",
    "all_files"
   ]
  },
  {
   "cell_type": "code",
   "execution_count": 3,
   "metadata": {},
   "outputs": [],
   "source": [
    "spaces_database = pd.read_csv(\"spaces_database_z.csv\").drop(columns=[\"Unnamed: 0\"])\n",
    "sde1_spaces = spaces_database.loc[spaces_database[\"space_id\"] >= 100].loc[spaces_database[\"space_id\"] < 200]\n",
    "sde1_corridors = sde1_spaces.loc[sde1_spaces[\"space_name\"].str.contains(\"CORRIDOR\", regex=False)]\n",
    "sde1_corridors = list(sde1_corridors[\"space_id\"])"
   ]
  },
  {
   "cell_type": "code",
   "execution_count": 4,
   "metadata": {},
   "outputs": [
    {
     "data": {
      "text/plain": [
       "[105.0, 106.0, 107.0, 113.0, 114.0, 115.0, 134.0, 135.0, 136.0, 137.0, 138.0]"
      ]
     },
     "execution_count": 4,
     "metadata": {},
     "output_type": "execute_result"
    }
   ],
   "source": [
    "sde1_corridors"
   ]
  },
  {
   "cell_type": "code",
   "execution_count": null,
   "metadata": {},
   "outputs": [],
   "source": [
    "def remap_locations(df):\n",
    "    \"\"\"\n",
    "    classify space_id = 0 as outdoors\n",
    "    change SDE1 corridors to outdoor except corridor_4_2 (space_id = 135)\n",
    "    remap space_id 135 to 121\n",
    "    \"\"\"\n",
    "    for row in range(len(df)):\n",
    "        if df.at[row, \"space_id\"] == 0:\n",
    "            df.at[row, \"fitbit.indoorOutdoor\"] = 9\n",
    "        elif df.at[row, \"space_id\"] in sde1_corridors:\n",
    "            if df.at[row, \"space_id\"] == 135:\n",
    "                df.at[row, \"space_id\"] = 121\n",
    "                df.at[row, \"fitbit.indoorOutdoor\"] = 11\n",
    "            else:\n",
    "                df.at[row, \"fitbit.indoorOutdoor\"] = 9\n",
    "    return df"
   ]
  },
  {
   "cell_type": "code",
   "execution_count": 3,
   "metadata": {},
   "outputs": [],
   "source": [
    "def merge_user_data(files):\n",
    "    user_data = proc.cozie_intervals(files)\\\n",
    "    .rename(columns={\"Steerpath.Space_id\" : \"space_id\"})\\\n",
    "    .astype({\"space_id\" : \"Int64\"})\\\n",
    "    .reset_index()\n",
    "    #rename to a standard \"space_id\" column so can merge easily\n",
    "    user_data = fm.replace_nan_space_id(user_data)\n",
    "    user_data = remap_locations(user_data)\n",
    "    return user_data.set_index(\"time\")"
   ]
  },
  {
   "cell_type": "markdown",
   "metadata": {},
   "source": [
    "# stage 1: merging the user data with ubibot data\n",
    "the \".._z.csv\" files in the functions are created in my Sensors_data.ipynb notebook"
   ]
  },
  {
   "cell_type": "code",
   "execution_count": 4,
   "metadata": {},
   "outputs": [],
   "source": [
    "def merge_ubibot(stage0):\n",
    "    ubibot = pd.read_csv(\"ubibot_dataset_z.csv\")\n",
    "    to_drop = ubibot.loc[ubibot[\"time\"].isnull()] #this is the offending row with no time!!\n",
    "    ubibot = ubibot.drop(to_drop.index[0])\n",
    "    ubibot = fm.format_time(ubibot)\n",
    "    ubibot = ubibot.astype({\"space_id\" : \"Int64\"}).sort_values(\"time\")\n",
    "    return pd.merge_asof(stage0, ubibot, on=\"time\", by=\"space_id\").set_index(\"time\")"
   ]
  },
  {
   "cell_type": "markdown",
   "metadata": {},
   "source": [
    "# stage 2: merging the user data with bms data"
   ]
  },
  {
   "cell_type": "code",
   "execution_count": 5,
   "metadata": {},
   "outputs": [],
   "source": [
    "def format_bms(old_df):\n",
    "    \"\"\"\n",
    "    removes bms data that is not required for the user ie locations not visited\n",
    "    also adds in a column for faculty name to be used for merging with purpleair data\n",
    "    \"\"\"\n",
    "    df = old_df.copy()\n",
    "    df[\"faculty_name\"] = \"\"\n",
    "    for row in range(len(df)):\n",
    "        space_id = df.at[row, \"space_id\"]\n",
    "        if space_id >= 0:\n",
    "            if space_id < 100:\n",
    "                df.at[row, \"faculty_name\"] = \"SDE4\"\n",
    "            elif space_id < 200:\n",
    "                df.at[row, \"faculty_name\"] = \"SDE1\"\n",
    "            else:\n",
    "                df.at[row, \"faculty_name\"] = \"SDE2\"\n",
    "        bms_cols = [col for col in df.columns if 'VAV' in col]\n",
    "        for col in bms_cols:\n",
    "            if space_id < 0:\n",
    "                df.at[row, col] = np.nan\n",
    "            elif str(space_id) == col[-3:]:\n",
    "                continue\n",
    "            else:\n",
    "                df.at[row, col] = np.nan\n",
    "    return df"
   ]
  },
  {
   "cell_type": "code",
   "execution_count": 6,
   "metadata": {},
   "outputs": [],
   "source": [
    "def merge_bms(stage1):\n",
    "    bms = fm.format_time(pd.read_csv(\"bms_dataset_z.csv\")).sort_values(\"time\")\n",
    "    stage2 = format_bms(pd.merge_asof(stage1, bms, on=\"time\")).set_index(\"time\")\n",
    "    return stage2"
   ]
  },
  {
   "cell_type": "markdown",
   "metadata": {},
   "source": [
    "# stage 3: merging the user data with awair data"
   ]
  },
  {
   "cell_type": "code",
   "execution_count": 7,
   "metadata": {},
   "outputs": [],
   "source": [
    "def merge_awair(stage2):\n",
    "    awair = fm.format_time(pd.read_csv(\"awair_dataset_z.csv\")).astype({\"space_id\" : \"Int64\"})\n",
    "    awair = fm.replace_nan_space_id(awair).sort_values(\"time\")\n",
    "    stage3 = pd.merge_asof(stage2, awair, on=\"time\", by=\"space_id\").set_index(\"time\")\n",
    "    stage3.loc[(stage3[\"space_id\"] == -1), stage3.columns[-9:]] = np.nan\n",
    "    #since we treat nan space_id as -1, awair data where space_id is -1 will also show up in the user data, so we remove them\n",
    "    return stage3"
   ]
  },
  {
   "cell_type": "markdown",
   "metadata": {},
   "source": [
    "# stage 4: merging the user data with sensing data"
   ]
  },
  {
   "cell_type": "code",
   "execution_count": 8,
   "metadata": {},
   "outputs": [],
   "source": [
    "def merge_sensing(stage3):\n",
    "    sensing = fm.format_time(pd.read_csv(\"sensing_dataset_z.csv\")).astype({\"space_id\" : \"Int64\"})\n",
    "    sensing = fm.replace_nan_space_id(sensing).sort_values(\"time\")\n",
    "    stage4 = pd.merge_asof(stage3, sensing, on=\"time\", by=\"space_id\").set_index(\"time\")\n",
    "    stage4.loc[(stage4[\"space_id\"] == -1), stage4.columns[-4:]] = np.nan\n",
    "    #since we treat nan space_id as -1, awair data where space_id is -1 will also show up in the user data, so we remove them\n",
    "    return stage4"
   ]
  },
  {
   "cell_type": "markdown",
   "metadata": {},
   "source": [
    "# stage 5: merging the user data with purpleair data"
   ]
  },
  {
   "cell_type": "code",
   "execution_count": 9,
   "metadata": {},
   "outputs": [],
   "source": [
    "def merge_purpleair(stage4):\n",
    "    purpleair = fm.format_time(pd.read_csv(\"purpleair_dataset_z.csv\")).sort_values(\"time\")\n",
    "    stage5 = pd.merge_asof(stage4, purpleair, on=\"time\", by=\"faculty_name\").set_index(\"time\")\n",
    "    return stage5"
   ]
  },
  {
   "cell_type": "markdown",
   "metadata": {},
   "source": [
    "# stage 6 (final): reordering the columns"
   ]
  },
  {
   "cell_type": "code",
   "execution_count": 10,
   "metadata": {},
   "outputs": [],
   "source": [
    "def reorder_columns(stage5):\n",
    "    cols = list(stage5.columns)\n",
    "    cols.remove(\"space_id\")\n",
    "    cols.remove(\"faculty_name\")\n",
    "    new_cols = [\"space_id\"] + [\"faculty_name\"] + cols\n",
    "    stage6 = stage5[new_cols] #reorder the columns so that space_id and faculty_name can be in front\n",
    "    return stage6"
   ]
  },
  {
   "cell_type": "markdown",
   "metadata": {},
   "source": [
    "# One single function to be used"
   ]
  },
  {
   "cell_type": "code",
   "execution_count": 11,
   "metadata": {},
   "outputs": [],
   "source": [
    "def merge_all(files):\n",
    "    \"\"\"\n",
    "    takes in a list of csv files for the user measurements\n",
    "    \"\"\"\n",
    "    return reorder_columns(merge_purpleair(merge_sensing(merge_awair(merge_bms(merge_ubibot(merge_user_data(files)))))))"
   ]
  },
  {
   "cell_type": "code",
   "execution_count": 12,
   "metadata": {},
   "outputs": [
    {
     "ename": "IndexError",
     "evalue": "list index out of range",
     "output_type": "error",
     "traceback": [
      "\u001b[1;31m---------------------------------------------------------------------------\u001b[0m",
      "\u001b[1;31mIndexError\u001b[0m                                Traceback (most recent call last)",
      "\u001b[1;32m<ipython-input-12-c0b5bc0ae9f7>\u001b[0m in \u001b[0;36m<module>\u001b[1;34m\u001b[0m\n\u001b[1;32m----> 1\u001b[1;33m \u001b[0mtest\u001b[0m \u001b[1;33m=\u001b[0m \u001b[0mmerge_all\u001b[0m\u001b[1;33m(\u001b[0m\u001b[0mall_files\u001b[0m\u001b[1;33m)\u001b[0m\u001b[1;33m\u001b[0m\u001b[1;33m\u001b[0m\u001b[0m\n\u001b[0m\u001b[0;32m      2\u001b[0m \u001b[0mtest\u001b[0m\u001b[1;33m.\u001b[0m\u001b[0mto_csv\u001b[0m\u001b[1;33m(\u001b[0m\u001b[1;34m\"test.csv\"\u001b[0m\u001b[1;33m)\u001b[0m\u001b[1;33m\u001b[0m\u001b[1;33m\u001b[0m\u001b[0m\n\u001b[0;32m      3\u001b[0m \u001b[0mtest\u001b[0m\u001b[1;33m\u001b[0m\u001b[1;33m\u001b[0m\u001b[0m\n",
      "\u001b[1;32m<ipython-input-11-aa2d1a20ad26>\u001b[0m in \u001b[0;36mmerge_all\u001b[1;34m(files)\u001b[0m\n\u001b[0;32m      3\u001b[0m     \u001b[0mtakes\u001b[0m \u001b[1;32min\u001b[0m \u001b[0ma\u001b[0m \u001b[0mlist\u001b[0m \u001b[0mof\u001b[0m \u001b[0mcsv\u001b[0m \u001b[0mfiles\u001b[0m \u001b[1;32mfor\u001b[0m \u001b[0mthe\u001b[0m \u001b[0muser\u001b[0m \u001b[0mmeasurements\u001b[0m\u001b[1;33m\u001b[0m\u001b[1;33m\u001b[0m\u001b[0m\n\u001b[0;32m      4\u001b[0m     \"\"\"\n\u001b[1;32m----> 5\u001b[1;33m     \u001b[1;32mreturn\u001b[0m \u001b[0mreorder_columns\u001b[0m\u001b[1;33m(\u001b[0m\u001b[0mmerge_purpleair\u001b[0m\u001b[1;33m(\u001b[0m\u001b[0mmerge_sensing\u001b[0m\u001b[1;33m(\u001b[0m\u001b[0mmerge_awair\u001b[0m\u001b[1;33m(\u001b[0m\u001b[0mmerge_bms\u001b[0m\u001b[1;33m(\u001b[0m\u001b[0mmerge_ubibot\u001b[0m\u001b[1;33m(\u001b[0m\u001b[0mmerge_user_data\u001b[0m\u001b[1;33m(\u001b[0m\u001b[0mfiles\u001b[0m\u001b[1;33m)\u001b[0m\u001b[1;33m)\u001b[0m\u001b[1;33m)\u001b[0m\u001b[1;33m)\u001b[0m\u001b[1;33m)\u001b[0m\u001b[1;33m)\u001b[0m\u001b[1;33m)\u001b[0m\u001b[1;33m\u001b[0m\u001b[1;33m\u001b[0m\u001b[0m\n\u001b[0m",
      "\u001b[1;32m<ipython-input-3-9438230e6671>\u001b[0m in \u001b[0;36mmerge_user_data\u001b[1;34m(files)\u001b[0m\n\u001b[0;32m      1\u001b[0m \u001b[1;32mdef\u001b[0m \u001b[0mmerge_user_data\u001b[0m\u001b[1;33m(\u001b[0m\u001b[0mfiles\u001b[0m\u001b[1;33m)\u001b[0m\u001b[1;33m:\u001b[0m\u001b[1;33m\u001b[0m\u001b[1;33m\u001b[0m\u001b[0m\n\u001b[1;32m----> 2\u001b[1;33m     \u001b[0muser_data\u001b[0m \u001b[1;33m=\u001b[0m \u001b[0mproc\u001b[0m\u001b[1;33m.\u001b[0m\u001b[0mcozie_intervals\u001b[0m\u001b[1;33m(\u001b[0m\u001b[0mfiles\u001b[0m\u001b[1;33m)\u001b[0m\u001b[0;31m\\\u001b[0m\u001b[1;33m\u001b[0m\u001b[1;33m\u001b[0m\u001b[0m\n\u001b[0m\u001b[0;32m      3\u001b[0m     \u001b[1;33m.\u001b[0m\u001b[0mrename\u001b[0m\u001b[1;33m(\u001b[0m\u001b[0mcolumns\u001b[0m\u001b[1;33m=\u001b[0m\u001b[1;33m{\u001b[0m\u001b[1;34m\"Steerpath.Space_id\"\u001b[0m \u001b[1;33m:\u001b[0m \u001b[1;34m\"space_id\"\u001b[0m\u001b[1;33m}\u001b[0m\u001b[1;33m)\u001b[0m\u001b[0;31m\\\u001b[0m\u001b[1;33m\u001b[0m\u001b[1;33m\u001b[0m\u001b[0m\n\u001b[0;32m      4\u001b[0m     \u001b[1;33m.\u001b[0m\u001b[0mastype\u001b[0m\u001b[1;33m(\u001b[0m\u001b[1;33m{\u001b[0m\u001b[1;34m\"space_id\"\u001b[0m \u001b[1;33m:\u001b[0m \u001b[1;34m\"Int64\"\u001b[0m\u001b[1;33m}\u001b[0m\u001b[1;33m)\u001b[0m\u001b[1;33m\u001b[0m\u001b[1;33m\u001b[0m\u001b[0m\n\u001b[0;32m      5\u001b[0m     \u001b[1;31m#rename to a standard \"space_id\" column so can merge easily\u001b[0m\u001b[1;33m\u001b[0m\u001b[1;33m\u001b[0m\u001b[1;33m\u001b[0m\u001b[0m\n",
      "\u001b[1;32m~\\Downloads\\school\\Research Student\\esk-data-crunch-main_TEST2\\esk-data-crunch-main\\data\\raw\\Data_processing.py\u001b[0m in \u001b[0;36mcozie_intervals\u001b[1;34m(file_names)\u001b[0m\n\u001b[0;32m     45\u001b[0m     \u001b[0mcozie_file\u001b[0m \u001b[1;33m=\u001b[0m \u001b[0mlist\u001b[0m\u001b[1;33m(\u001b[0m\u001b[0mfilter\u001b[0m\u001b[1;33m(\u001b[0m\u001b[1;32mlambda\u001b[0m \u001b[0mx\u001b[0m\u001b[1;33m:\u001b[0m \u001b[1;34m\"cozie\"\u001b[0m \u001b[1;32min\u001b[0m \u001b[0mx\u001b[0m\u001b[1;33m,\u001b[0m \u001b[0mfile_names\u001b[0m\u001b[1;33m)\u001b[0m\u001b[1;33m)\u001b[0m\u001b[1;33m\u001b[0m\u001b[1;33m\u001b[0m\u001b[0m\n\u001b[0;32m     46\u001b[0m     \u001b[0mother_files\u001b[0m \u001b[1;33m=\u001b[0m \u001b[0mlist\u001b[0m\u001b[1;33m(\u001b[0m\u001b[0mfilter\u001b[0m\u001b[1;33m(\u001b[0m\u001b[1;32mlambda\u001b[0m \u001b[0mx\u001b[0m\u001b[1;33m:\u001b[0m \u001b[1;34m\"cozie\"\u001b[0m \u001b[1;32mnot\u001b[0m \u001b[1;32min\u001b[0m \u001b[0mx\u001b[0m\u001b[1;33m,\u001b[0m \u001b[0mfile_names\u001b[0m\u001b[1;33m)\u001b[0m\u001b[1;33m)\u001b[0m\u001b[1;33m\u001b[0m\u001b[1;33m\u001b[0m\u001b[0m\n\u001b[1;32m---> 47\u001b[1;33m     \u001b[0mdf\u001b[0m \u001b[1;33m=\u001b[0m \u001b[0mformat_and_sort_time\u001b[0m\u001b[1;33m(\u001b[0m\u001b[0mcozie_file\u001b[0m\u001b[1;33m[\u001b[0m\u001b[1;36m0\u001b[0m\u001b[1;33m]\u001b[0m\u001b[1;33m)\u001b[0m\u001b[1;33m\u001b[0m\u001b[1;33m\u001b[0m\u001b[0m\n\u001b[0m\u001b[0;32m     48\u001b[0m     \u001b[1;32mfor\u001b[0m \u001b[0mfile\u001b[0m \u001b[1;32min\u001b[0m \u001b[0mother_files\u001b[0m\u001b[1;33m:\u001b[0m\u001b[1;33m\u001b[0m\u001b[1;33m\u001b[0m\u001b[0m\n\u001b[0;32m     49\u001b[0m         \u001b[1;32mif\u001b[0m \u001b[1;34m\"fitbit\"\u001b[0m \u001b[1;32min\u001b[0m \u001b[0mfile\u001b[0m\u001b[1;33m:\u001b[0m\u001b[1;33m\u001b[0m\u001b[1;33m\u001b[0m\u001b[0m\n",
      "\u001b[1;31mIndexError\u001b[0m: list index out of range"
     ]
    }
   ],
   "source": [
    "test = merge_all(all_files)\n",
    "test.to_csv(\"test.csv\")\n",
    "test"
   ]
  },
  {
   "cell_type": "code",
   "execution_count": null,
   "metadata": {},
   "outputs": [],
   "source": [
    "test.columns"
   ]
  },
  {
   "cell_type": "code",
   "execution_count": null,
   "metadata": {},
   "outputs": [],
   "source": []
  }
 ],
 "metadata": {
  "kernelspec": {
   "display_name": "Python 3",
   "language": "python",
   "name": "python3"
  },
  "language_info": {
   "codemirror_mode": {
    "name": "ipython",
    "version": 3
   },
   "file_extension": ".py",
   "mimetype": "text/x-python",
   "name": "python",
   "nbconvert_exporter": "python",
   "pygments_lexer": "ipython3",
   "version": "3.8.5"
  }
 },
 "nbformat": 4,
 "nbformat_minor": 4
}
